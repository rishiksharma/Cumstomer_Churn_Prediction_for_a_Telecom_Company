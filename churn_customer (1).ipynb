{
  "nbformat": 4,
  "nbformat_minor": 0,
  "metadata": {
    "kernelspec": {
      "display_name": "Python 3",
      "language": "python",
      "name": "python3"
    },
    "language_info": {
      "codemirror_mode": {
        "name": "ipython",
        "version": 3
      },
      "file_extension": ".py",
      "mimetype": "text/x-python",
      "name": "python",
      "nbconvert_exporter": "python",
      "pygments_lexer": "ipython3",
      "version": "3.6.6"
    },
    "colab": {
      "name": "churn_customer.ipynb",
      "provenance": []
    }
  },
  "cells": [
    {
      "cell_type": "code",
      "metadata": {
        "id": "xigcqoQN_xLs",
        "colab_type": "code",
        "colab": {}
      },
      "source": [
        "import warnings\n",
        "warnings.filterwarnings(\"ignore\")\n",
        "\n",
        "import pandas as pd\n",
        "from sklearn.model_selection import train_test_split\n",
        "from sklearn.preprocessing import StandardScaler\n",
        "from imblearn.over_sampling import SMOTE\n",
        "import matplotlib.pyplot as plt\n",
        "\n",
        "import numpy as np"
      ],
      "execution_count": 1,
      "outputs": []
    },
    {
      "cell_type": "markdown",
      "metadata": {
        "id": "45r-ePow_xLz",
        "colab_type": "text"
      },
      "source": [
        "**Loading previously cleaned datset**"
      ]
    },
    {
      "cell_type": "code",
      "metadata": {
        "id": "QJnsAlyU_xL0",
        "colab_type": "code",
        "colab": {}
      },
      "source": [
        "df = pd.read_excel(\"churn_customer.xlsx\")"
      ],
      "execution_count": 17,
      "outputs": []
    },
    {
      "cell_type": "code",
      "metadata": {
        "id": "mT7il9T0_xL5",
        "colab_type": "code",
        "colab": {
          "base_uri": "https://localhost:8080/",
          "height": 309
        },
        "outputId": "d7746475-326e-41a1-acb8-ea1097fc8398"
      },
      "source": [
        "df.head()"
      ],
      "execution_count": 18,
      "outputs": [
        {
          "output_type": "execute_result",
          "data": {
            "text/html": [
              "<div>\n",
              "<style scoped>\n",
              "    .dataframe tbody tr th:only-of-type {\n",
              "        vertical-align: middle;\n",
              "    }\n",
              "\n",
              "    .dataframe tbody tr th {\n",
              "        vertical-align: top;\n",
              "    }\n",
              "\n",
              "    .dataframe thead th {\n",
              "        text-align: right;\n",
              "    }\n",
              "</style>\n",
              "<table border=\"1\" class=\"dataframe\">\n",
              "  <thead>\n",
              "    <tr style=\"text-align: right;\">\n",
              "      <th></th>\n",
              "      <th>customerID</th>\n",
              "      <th>gender</th>\n",
              "      <th>SeniorCitizen</th>\n",
              "      <th>Partner</th>\n",
              "      <th>Dependents</th>\n",
              "      <th>tenure</th>\n",
              "      <th>PhoneService</th>\n",
              "      <th>MultipleLines</th>\n",
              "      <th>InternetService</th>\n",
              "      <th>OnlineSecurity</th>\n",
              "      <th>OnlineBackup</th>\n",
              "      <th>DeviceProtection</th>\n",
              "      <th>TechSupport</th>\n",
              "      <th>StreamingTV</th>\n",
              "      <th>StreamingMovies</th>\n",
              "      <th>Contract</th>\n",
              "      <th>PaperlessBilling</th>\n",
              "      <th>PaymentMethod</th>\n",
              "      <th>MonthlyCharges</th>\n",
              "      <th>TotalCharges</th>\n",
              "      <th>Churn</th>\n",
              "    </tr>\n",
              "  </thead>\n",
              "  <tbody>\n",
              "    <tr>\n",
              "      <th>0</th>\n",
              "      <td>7590-VHVEG</td>\n",
              "      <td>Female</td>\n",
              "      <td>0</td>\n",
              "      <td>Yes</td>\n",
              "      <td>No</td>\n",
              "      <td>1</td>\n",
              "      <td>No</td>\n",
              "      <td>No phone service</td>\n",
              "      <td>DSL</td>\n",
              "      <td>No</td>\n",
              "      <td>Yes</td>\n",
              "      <td>No</td>\n",
              "      <td>No</td>\n",
              "      <td>No</td>\n",
              "      <td>No</td>\n",
              "      <td>Month-to-month</td>\n",
              "      <td>Yes</td>\n",
              "      <td>Electronic check</td>\n",
              "      <td>29.85</td>\n",
              "      <td>29.85</td>\n",
              "      <td>No</td>\n",
              "    </tr>\n",
              "    <tr>\n",
              "      <th>1</th>\n",
              "      <td>5575-GNVDE</td>\n",
              "      <td>Male</td>\n",
              "      <td>0</td>\n",
              "      <td>No</td>\n",
              "      <td>No</td>\n",
              "      <td>34</td>\n",
              "      <td>Yes</td>\n",
              "      <td>No</td>\n",
              "      <td>DSL</td>\n",
              "      <td>Yes</td>\n",
              "      <td>No</td>\n",
              "      <td>Yes</td>\n",
              "      <td>No</td>\n",
              "      <td>No</td>\n",
              "      <td>No</td>\n",
              "      <td>One year</td>\n",
              "      <td>No</td>\n",
              "      <td>Mailed check</td>\n",
              "      <td>56.95</td>\n",
              "      <td>1889.5</td>\n",
              "      <td>No</td>\n",
              "    </tr>\n",
              "    <tr>\n",
              "      <th>2</th>\n",
              "      <td>3668-QPYBK</td>\n",
              "      <td>Male</td>\n",
              "      <td>0</td>\n",
              "      <td>No</td>\n",
              "      <td>No</td>\n",
              "      <td>2</td>\n",
              "      <td>Yes</td>\n",
              "      <td>No</td>\n",
              "      <td>DSL</td>\n",
              "      <td>Yes</td>\n",
              "      <td>Yes</td>\n",
              "      <td>No</td>\n",
              "      <td>No</td>\n",
              "      <td>No</td>\n",
              "      <td>No</td>\n",
              "      <td>Month-to-month</td>\n",
              "      <td>Yes</td>\n",
              "      <td>Mailed check</td>\n",
              "      <td>53.85</td>\n",
              "      <td>108.15</td>\n",
              "      <td>Yes</td>\n",
              "    </tr>\n",
              "    <tr>\n",
              "      <th>3</th>\n",
              "      <td>7795-CFOCW</td>\n",
              "      <td>Male</td>\n",
              "      <td>0</td>\n",
              "      <td>No</td>\n",
              "      <td>No</td>\n",
              "      <td>45</td>\n",
              "      <td>No</td>\n",
              "      <td>No phone service</td>\n",
              "      <td>DSL</td>\n",
              "      <td>Yes</td>\n",
              "      <td>No</td>\n",
              "      <td>Yes</td>\n",
              "      <td>Yes</td>\n",
              "      <td>No</td>\n",
              "      <td>No</td>\n",
              "      <td>One year</td>\n",
              "      <td>No</td>\n",
              "      <td>Bank transfer (automatic)</td>\n",
              "      <td>42.30</td>\n",
              "      <td>1840.75</td>\n",
              "      <td>No</td>\n",
              "    </tr>\n",
              "    <tr>\n",
              "      <th>4</th>\n",
              "      <td>9237-HQITU</td>\n",
              "      <td>Female</td>\n",
              "      <td>0</td>\n",
              "      <td>No</td>\n",
              "      <td>No</td>\n",
              "      <td>2</td>\n",
              "      <td>Yes</td>\n",
              "      <td>No</td>\n",
              "      <td>Fiber optic</td>\n",
              "      <td>No</td>\n",
              "      <td>No</td>\n",
              "      <td>No</td>\n",
              "      <td>No</td>\n",
              "      <td>No</td>\n",
              "      <td>No</td>\n",
              "      <td>Month-to-month</td>\n",
              "      <td>Yes</td>\n",
              "      <td>Electronic check</td>\n",
              "      <td>70.70</td>\n",
              "      <td>151.65</td>\n",
              "      <td>Yes</td>\n",
              "    </tr>\n",
              "  </tbody>\n",
              "</table>\n",
              "</div>"
            ],
            "text/plain": [
              "   customerID  gender  SeniorCitizen  ... MonthlyCharges TotalCharges  Churn\n",
              "0  7590-VHVEG  Female              0  ...          29.85        29.85     No\n",
              "1  5575-GNVDE    Male              0  ...          56.95       1889.5     No\n",
              "2  3668-QPYBK    Male              0  ...          53.85       108.15    Yes\n",
              "3  7795-CFOCW    Male              0  ...          42.30      1840.75     No\n",
              "4  9237-HQITU  Female              0  ...          70.70       151.65    Yes\n",
              "\n",
              "[5 rows x 21 columns]"
            ]
          },
          "metadata": {
            "tags": []
          },
          "execution_count": 18
        }
      ]
    },
    {
      "cell_type": "code",
      "metadata": {
        "id": "iOrkEyJq_xL-",
        "colab_type": "code",
        "colab": {
          "base_uri": "https://localhost:8080/",
          "height": 34
        },
        "outputId": "b2d2b190-0da5-470b-9827-3931b51b169e"
      },
      "source": [
        "df.shape"
      ],
      "execution_count": 19,
      "outputs": [
        {
          "output_type": "execute_result",
          "data": {
            "text/plain": [
              "(7043, 21)"
            ]
          },
          "metadata": {
            "tags": []
          },
          "execution_count": 19
        }
      ]
    },
    {
      "cell_type": "code",
      "metadata": {
        "id": "z5jJe219FcmM",
        "colab_type": "code",
        "colab": {
          "base_uri": "https://localhost:8080/",
          "height": 119
        },
        "outputId": "23b8921e-ee51-401e-ddff-e19ac0114277"
      },
      "source": [
        "df.columns"
      ],
      "execution_count": 20,
      "outputs": [
        {
          "output_type": "execute_result",
          "data": {
            "text/plain": [
              "Index(['customerID', 'gender', 'SeniorCitizen', 'Partner', 'Dependents',\n",
              "       'tenure', 'PhoneService', 'MultipleLines', 'InternetService',\n",
              "       'OnlineSecurity', 'OnlineBackup', 'DeviceProtection', 'TechSupport',\n",
              "       'StreamingTV', 'StreamingMovies', 'Contract', 'PaperlessBilling',\n",
              "       'PaymentMethod', 'MonthlyCharges', 'TotalCharges', 'Churn'],\n",
              "      dtype='object')"
            ]
          },
          "metadata": {
            "tags": []
          },
          "execution_count": 20
        }
      ]
    },
    {
      "cell_type": "markdown",
      "metadata": {
        "id": "qB4Gf9gxFn_s",
        "colab_type": "text"
      },
      "source": [
        "**Replacing Empty Space with Nan**"
      ]
    },
    {
      "cell_type": "code",
      "metadata": {
        "id": "1W-NKBAUFceW",
        "colab_type": "code",
        "colab": {}
      },
      "source": [
        "empty_cols=['customerID', 'gender', 'SeniorCitizen', 'Partner', 'Dependents',\n",
        "       'tenure', 'PhoneService', 'MultipleLines', 'InternetService',\n",
        "       'OnlineSecurity', 'OnlineBackup', 'DeviceProtection','TechSupport',\n",
        "       'StreamingTV', 'StreamingMovies', 'Contract', 'PaperlessBilling',\n",
        "       'PaymentMethod', 'MonthlyCharges', 'TotalCharges', 'Churn']\n",
        "for i in empty_cols:\n",
        "    df[i]=df[i].replace(\" \",np.nan)"
      ],
      "execution_count": 21,
      "outputs": []
    },
    {
      "cell_type": "code",
      "metadata": {
        "id": "VCQXhj4mFcWN",
        "colab_type": "code",
        "colab": {
          "base_uri": "https://localhost:8080/",
          "height": 391
        },
        "outputId": "5c1083cf-4256-46ac-91f3-d947aec2685e"
      },
      "source": [
        "df.isnull().sum()"
      ],
      "execution_count": 22,
      "outputs": [
        {
          "output_type": "execute_result",
          "data": {
            "text/plain": [
              "customerID           0\n",
              "gender               0\n",
              "SeniorCitizen        0\n",
              "Partner              0\n",
              "Dependents           0\n",
              "tenure               0\n",
              "PhoneService         0\n",
              "MultipleLines        0\n",
              "InternetService      0\n",
              "OnlineSecurity       0\n",
              "OnlineBackup         0\n",
              "DeviceProtection     0\n",
              "TechSupport          0\n",
              "StreamingTV          0\n",
              "StreamingMovies      0\n",
              "Contract             0\n",
              "PaperlessBilling     0\n",
              "PaymentMethod        0\n",
              "MonthlyCharges       0\n",
              "TotalCharges        11\n",
              "Churn                0\n",
              "dtype: int64"
            ]
          },
          "metadata": {
            "tags": []
          },
          "execution_count": 22
        }
      ]
    },
    {
      "cell_type": "markdown",
      "metadata": {
        "id": "lobQ8H8yFzw_",
        "colab_type": "text"
      },
      "source": [
        "Feature 'TotalCharges' has 11 NaNs or missing values.So lets drop those missing values"
      ]
    },
    {
      "cell_type": "code",
      "metadata": {
        "id": "mBG5iC51FcOl",
        "colab_type": "code",
        "colab": {}
      },
      "source": [
        "df_churn=df.dropna()"
      ],
      "execution_count": 23,
      "outputs": []
    },
    {
      "cell_type": "code",
      "metadata": {
        "id": "VowxDTxRFcGo",
        "colab_type": "code",
        "colab": {
          "base_uri": "https://localhost:8080/",
          "height": 1000
        },
        "outputId": "88c0002e-14ea-408a-a14a-d46f176a9081"
      },
      "source": [
        "for item in df_churn.columns:\n",
        "    print()\n",
        "    print(item)\n",
        "    print (df_churn[item].unique())"
      ],
      "execution_count": 24,
      "outputs": [
        {
          "output_type": "stream",
          "text": [
            "\n",
            "customerID\n",
            "['7590-VHVEG' '5575-GNVDE' '3668-QPYBK' ... '4801-JZAZL' '8361-LTMKD'\n",
            " '3186-AJIEK']\n",
            "\n",
            "gender\n",
            "['Female' 'Male']\n",
            "\n",
            "SeniorCitizen\n",
            "[0 1]\n",
            "\n",
            "Partner\n",
            "['Yes' 'No']\n",
            "\n",
            "Dependents\n",
            "['No' 'Yes']\n",
            "\n",
            "tenure\n",
            "[ 1 34  2 45  8 22 10 28 62 13 16 58 49 25 69 52 71 21 12 30 47 72 17 27\n",
            "  5 46 11 70 63 43 15 60 18 66  9  3 31 50 64 56  7 42 35 48 29 65 38 68\n",
            " 32 55 37 36 41  6  4 33 67 23 57 61 14 20 53 40 59 24 44 19 54 51 26 39]\n",
            "\n",
            "PhoneService\n",
            "['No' 'Yes']\n",
            "\n",
            "MultipleLines\n",
            "['No phone service' 'No' 'Yes']\n",
            "\n",
            "InternetService\n",
            "['DSL' 'Fiber optic' 'No']\n",
            "\n",
            "OnlineSecurity\n",
            "['No' 'Yes' 'No internet service']\n",
            "\n",
            "OnlineBackup\n",
            "['Yes' 'No' 'No internet service']\n",
            "\n",
            "DeviceProtection\n",
            "['No' 'Yes' 'No internet service']\n",
            "\n",
            "TechSupport\n",
            "['No' 'Yes' 'No internet service']\n",
            "\n",
            "StreamingTV\n",
            "['No' 'Yes' 'No internet service']\n",
            "\n",
            "StreamingMovies\n",
            "['No' 'Yes' 'No internet service']\n",
            "\n",
            "Contract\n",
            "['Month-to-month' 'One year' 'Two year']\n",
            "\n",
            "PaperlessBilling\n",
            "['Yes' 'No']\n",
            "\n",
            "PaymentMethod\n",
            "['Electronic check' 'Mailed check' 'Bank transfer (automatic)'\n",
            " 'Credit card (automatic)']\n",
            "\n",
            "MonthlyCharges\n",
            "[29.85 56.95 53.85 ... 63.1  44.2  78.7 ]\n",
            "\n",
            "TotalCharges\n",
            "[  29.85 1889.5   108.15 ...  346.45  306.6  6844.5 ]\n",
            "\n",
            "Churn\n",
            "['No' 'Yes']\n"
          ],
          "name": "stdout"
        }
      ]
    },
    {
      "cell_type": "markdown",
      "metadata": {
        "id": "MhmGpwL5F-Lq",
        "colab_type": "text"
      },
      "source": [
        "**DATA MANIPULATION**\n",
        "\n",
        "Encoding all categorical variables"
      ]
    },
    {
      "cell_type": "code",
      "metadata": {
        "id": "uL5Mzt01Fb--",
        "colab_type": "code",
        "colab": {}
      },
      "source": [
        "#replace values in columns with binary features\n",
        "\n",
        "binary_cols=['Partner','Dependents','PhoneService','PaperlessBilling']\n",
        "\n",
        "for i in binary_cols:\n",
        "    df_churn[i]=df_churn[i].replace({\"Yes\":1,\"No\":0})\n",
        "\n",
        "#Encoding column 'gender'\n",
        "df_churn['gender']=df_churn['gender'].replace({\"Male\":1,\"Female\":0})"
      ],
      "execution_count": 25,
      "outputs": []
    },
    {
      "cell_type": "code",
      "metadata": {
        "id": "cDzH6sNWGdx-",
        "colab_type": "code",
        "colab": {
          "base_uri": "https://localhost:8080/",
          "height": 314
        },
        "outputId": "e4dd3513-944c-49cb-f2ad-6ff41920ec5f"
      },
      "source": [
        "from matplotlib.pyplot import suptitle\n",
        "import seaborn as sns\n",
        "from seaborn import despine\n",
        "\n",
        "sns.set(style=\"whitegrid\")\n",
        "\n",
        "ax=sns.countplot(x='Churn',palette=\"Set3\", data=df_churn)\n",
        "ax.set_xticklabels([\"No\",\"Yes\"])\n",
        "ax.set_ylabel(\"Count\")\n",
        "ax.set_xlabel(\"Customer Churn\")\n",
        "suptitle(\"Distribution of Customer Churn\")\n",
        "despine()"
      ],
      "execution_count": 27,
      "outputs": [
        {
          "output_type": "display_data",
          "data": {
            "image/png": "[encoded data removed]",
            "text/plain": [
              "<Figure size 432x288 with 1 Axes>"
            ]
          },
          "metadata": {
            "tags": []
          }
        }
      ]
    },
    {
      "cell_type": "markdown",
      "metadata": {
        "id": "6b4ETFfbGpCM",
        "colab_type": "text"
      },
      "source": [
        "**Examining correlation of \"Churn\" with other features**"
      ]
    },
    {
      "cell_type": "code",
      "metadata": {
        "id": "DTew8zw7Gdh4",
        "colab_type": "code",
        "colab": {
          "base_uri": "https://localhost:8080/",
          "height": 328
        },
        "outputId": "1cc172c4-938f-4ae9-a2f2-a8d28718b75a"
      },
      "source": [
        "df_churn.corr()"
      ],
      "execution_count": 34,
      "outputs": [
        {
          "output_type": "execute_result",
          "data": {
            "text/html": [
              "<div>\n",
              "<style scoped>\n",
              "    .dataframe tbody tr th:only-of-type {\n",
              "        vertical-align: middle;\n",
              "    }\n",
              "\n",
              "    .dataframe tbody tr th {\n",
              "        vertical-align: top;\n",
              "    }\n",
              "\n",
              "    .dataframe thead th {\n",
              "        text-align: right;\n",
              "    }\n",
              "</style>\n",
              "<table border=\"1\" class=\"dataframe\">\n",
              "  <thead>\n",
              "    <tr style=\"text-align: right;\">\n",
              "      <th></th>\n",
              "      <th>gender</th>\n",
              "      <th>SeniorCitizen</th>\n",
              "      <th>Partner</th>\n",
              "      <th>Dependents</th>\n",
              "      <th>tenure</th>\n",
              "      <th>PhoneService</th>\n",
              "      <th>PaperlessBilling</th>\n",
              "      <th>MonthlyCharges</th>\n",
              "      <th>TotalCharges</th>\n",
              "    </tr>\n",
              "  </thead>\n",
              "  <tbody>\n",
              "    <tr>\n",
              "      <th>gender</th>\n",
              "      <td>1.000000</td>\n",
              "      <td>-0.001819</td>\n",
              "      <td>-0.001379</td>\n",
              "      <td>0.010349</td>\n",
              "      <td>0.005285</td>\n",
              "      <td>-0.007515</td>\n",
              "      <td>-0.011902</td>\n",
              "      <td>-0.013779</td>\n",
              "      <td>0.000048</td>\n",
              "    </tr>\n",
              "    <tr>\n",
              "      <th>SeniorCitizen</th>\n",
              "      <td>-0.001819</td>\n",
              "      <td>1.000000</td>\n",
              "      <td>0.016957</td>\n",
              "      <td>-0.210550</td>\n",
              "      <td>0.015683</td>\n",
              "      <td>0.008392</td>\n",
              "      <td>0.156258</td>\n",
              "      <td>0.219874</td>\n",
              "      <td>0.102411</td>\n",
              "    </tr>\n",
              "    <tr>\n",
              "      <th>Partner</th>\n",
              "      <td>-0.001379</td>\n",
              "      <td>0.016957</td>\n",
              "      <td>1.000000</td>\n",
              "      <td>0.452269</td>\n",
              "      <td>0.381912</td>\n",
              "      <td>0.018397</td>\n",
              "      <td>-0.013957</td>\n",
              "      <td>0.097825</td>\n",
              "      <td>0.319072</td>\n",
              "    </tr>\n",
              "    <tr>\n",
              "      <th>Dependents</th>\n",
              "      <td>0.010349</td>\n",
              "      <td>-0.210550</td>\n",
              "      <td>0.452269</td>\n",
              "      <td>1.000000</td>\n",
              "      <td>0.163386</td>\n",
              "      <td>-0.001078</td>\n",
              "      <td>-0.110131</td>\n",
              "      <td>-0.112343</td>\n",
              "      <td>0.064653</td>\n",
              "    </tr>\n",
              "    <tr>\n",
              "      <th>tenure</th>\n",
              "      <td>0.005285</td>\n",
              "      <td>0.015683</td>\n",
              "      <td>0.381912</td>\n",
              "      <td>0.163386</td>\n",
              "      <td>1.000000</td>\n",
              "      <td>0.007877</td>\n",
              "      <td>0.004823</td>\n",
              "      <td>0.246862</td>\n",
              "      <td>0.825880</td>\n",
              "    </tr>\n",
              "    <tr>\n",
              "      <th>PhoneService</th>\n",
              "      <td>-0.007515</td>\n",
              "      <td>0.008392</td>\n",
              "      <td>0.018397</td>\n",
              "      <td>-0.001078</td>\n",
              "      <td>0.007877</td>\n",
              "      <td>1.000000</td>\n",
              "      <td>0.016696</td>\n",
              "      <td>0.248033</td>\n",
              "      <td>0.113008</td>\n",
              "    </tr>\n",
              "    <tr>\n",
              "      <th>PaperlessBilling</th>\n",
              "      <td>-0.011902</td>\n",
              "      <td>0.156258</td>\n",
              "      <td>-0.013957</td>\n",
              "      <td>-0.110131</td>\n",
              "      <td>0.004823</td>\n",
              "      <td>0.016696</td>\n",
              "      <td>1.000000</td>\n",
              "      <td>0.351930</td>\n",
              "      <td>0.157830</td>\n",
              "    </tr>\n",
              "    <tr>\n",
              "      <th>MonthlyCharges</th>\n",
              "      <td>-0.013779</td>\n",
              "      <td>0.219874</td>\n",
              "      <td>0.097825</td>\n",
              "      <td>-0.112343</td>\n",
              "      <td>0.246862</td>\n",
              "      <td>0.248033</td>\n",
              "      <td>0.351930</td>\n",
              "      <td>1.000000</td>\n",
              "      <td>0.651065</td>\n",
              "    </tr>\n",
              "    <tr>\n",
              "      <th>TotalCharges</th>\n",
              "      <td>0.000048</td>\n",
              "      <td>0.102411</td>\n",
              "      <td>0.319072</td>\n",
              "      <td>0.064653</td>\n",
              "      <td>0.825880</td>\n",
              "      <td>0.113008</td>\n",
              "      <td>0.157830</td>\n",
              "      <td>0.651065</td>\n",
              "      <td>1.000000</td>\n",
              "    </tr>\n",
              "  </tbody>\n",
              "</table>\n",
              "</div>"
            ],
            "text/plain": [
              "                    gender  SeniorCitizen  ...  MonthlyCharges  TotalCharges\n",
              "gender            1.000000      -0.001819  ...       -0.013779      0.000048\n",
              "SeniorCitizen    -0.001819       1.000000  ...        0.219874      0.102411\n",
              "Partner          -0.001379       0.016957  ...        0.097825      0.319072\n",
              "Dependents        0.010349      -0.210550  ...       -0.112343      0.064653\n",
              "tenure            0.005285       0.015683  ...        0.246862      0.825880\n",
              "PhoneService     -0.007515       0.008392  ...        0.248033      0.113008\n",
              "PaperlessBilling -0.011902       0.156258  ...        0.351930      0.157830\n",
              "MonthlyCharges   -0.013779       0.219874  ...        1.000000      0.651065\n",
              "TotalCharges      0.000048       0.102411  ...        0.651065      1.000000\n",
              "\n",
              "[9 rows x 9 columns]"
            ]
          },
          "metadata": {
            "tags": []
          },
          "execution_count": 34
        }
      ]
    },
    {
      "cell_type": "code",
      "metadata": {
        "id": "I_C1qyXeGdXF",
        "colab_type": "code",
        "colab": {
          "base_uri": "https://localhost:8080/",
          "height": 695
        },
        "outputId": "3f3c7701-fbd1-4415-b813-cb8fce060e55"
      },
      "source": [
        "corr=df_churn.corr().iloc[:,:] \n",
        "c1 = corr.abs().unstack()\n",
        "c1.sort_values(ascending = False)\n",
        "\n",
        "plt.subplots(figsize=(15,10))\n",
        "sns.heatmap(corr,annot=False,cmap=\"YlGnBu\")"
      ],
      "execution_count": 33,
      "outputs": [
        {
          "output_type": "execute_result",
          "data": {
            "text/plain": [
              "<matplotlib.axes._subplots.AxesSubplot at 0x7fc7e339b6d8>"
            ]
          },
          "metadata": {
            "tags": []
          },
          "execution_count": 33
        },
        {
          "output_type": "display_data",
          "data": {
            "image/png": "[encoded data removed]",
            "text/plain": [
              "<Figure size 1080x720 with 2 Axes>"
            ]
          },
          "metadata": {
            "tags": []
          }
        }
      ]
    },
    {
      "cell_type": "code",
      "metadata": {
        "id": "Bw99brHtGdMj",
        "colab_type": "code",
        "colab": {}
      },
      "source": [
        ""
      ],
      "execution_count": null,
      "outputs": []
    },
    {
      "cell_type": "code",
      "metadata": {
        "id": "iuF8_zZrGdCK",
        "colab_type": "code",
        "colab": {}
      },
      "source": [
        ""
      ],
      "execution_count": null,
      "outputs": []
    },
    {
      "cell_type": "markdown",
      "metadata": {
        "id": "9polZYtJGGsQ",
        "colab_type": "text"
      },
      "source": [
        "Applying OneHotEncoding for Categorical Features"
      ]
    },
    {
      "cell_type": "code",
      "metadata": {
        "id": "4R3AXBpAFb27",
        "colab_type": "code",
        "colab": {}
      },
      "source": [
        "X = df_churn.drop([\"Churn\",\"customerID\"], axis = 1)\n",
        "y = df_churn.Churn"
      ],
      "execution_count": 35,
      "outputs": []
    },
    {
      "cell_type": "code",
      "metadata": {
        "id": "lpTgpxkUFbvc",
        "colab_type": "code",
        "colab": {}
      },
      "source": [
        "X = pd.DataFrame(X)\n",
        "y = pd.DataFrame(y)"
      ],
      "execution_count": 36,
      "outputs": []
    },
    {
      "cell_type": "code",
      "metadata": {
        "id": "jTovpQteFbnZ",
        "colab_type": "code",
        "colab": {}
      },
      "source": [
        "from sklearn.compose import ColumnTransformer\n",
        "from sklearn.preprocessing import OneHotEncoder\n",
        "ct = ColumnTransformer(transformers=[('encoder', OneHotEncoder(), [6,7,8,9,10,11,12,13,14,16])], remainder='passthrough')\n",
        "X = np.array(ct.fit_transform(X))"
      ],
      "execution_count": 37,
      "outputs": []
    },
    {
      "cell_type": "markdown",
      "metadata": {
        "id": "A9r-VP2fJgSQ",
        "colab_type": "text"
      },
      "source": [
        "**Label Encoding Target Variable**"
      ]
    },
    {
      "cell_type": "code",
      "metadata": {
        "id": "FFeIxn-2Fbfz",
        "colab_type": "code",
        "colab": {}
      },
      "source": [
        "from sklearn.preprocessing import LabelEncoder\n",
        "le = LabelEncoder()\n",
        "y = le.fit_transform(y)"
      ],
      "execution_count": 38,
      "outputs": []
    },
    {
      "cell_type": "markdown",
      "metadata": {
        "id": "KS5lXb8cJbu1",
        "colab_type": "text"
      },
      "source": [
        "**TARGET VARIABLE**"
      ]
    },
    {
      "cell_type": "code",
      "metadata": {
        "id": "EJjcnJmCFbX0",
        "colab_type": "code",
        "colab": {
          "base_uri": "https://localhost:8080/",
          "height": 85
        },
        "outputId": "3b6a5b57-835c-4d19-8f7a-366c8f639041"
      },
      "source": [
        "count_no_churn = (y == 0).sum()\n",
        "print(\"Number of customers who didn't churn:\",count_no_churn)\n",
        "count_yes_churn = (y==1).sum()\n",
        "print(\"Number of customers who churnes:\",count_yes_churn)\n",
        "pct_of_no_churn = count_no_churn/(count_no_churn+count_yes_churn)\n",
        "print(\"percentage of customers who didn't churn:\", pct_of_no_churn*100)\n",
        "pct_of_yes_churn = count_yes_churn/(count_no_churn+count_yes_churn)\n",
        "print(\"percentage of customers who churned:\", pct_of_yes_churn*100)"
      ],
      "execution_count": 39,
      "outputs": [
        {
          "output_type": "stream",
          "text": [
            "Number of customers who didn't churn: 5163\n",
            "Number of customers who churnes: 1869\n",
            "percentage of customers who didn't churn: 73.42150170648463\n",
            "percentage of customers who churned: 26.578498293515356\n"
          ],
          "name": "stdout"
        }
      ]
    },
    {
      "cell_type": "markdown",
      "metadata": {
        "id": "sTanKxpl_xMH",
        "colab_type": "text"
      },
      "source": [
        "**BALANCING THE TARGET VARIABLE**\n",
        "\n",
        "As we saw earlier, our target variable IS unbalanced.So I am going to balance the target variable with SMOTE (Synthetic Minority Oversampling Technique). With our training data created, I’ll up-sample minority sample( in our case the 'yes_churn' (customers who churn) sample using the SMOTE algorithm. At a high level, SMOTE:\n",
        "\n",
        "1.Works by creating synthetic samples from the minor class ( yes-churn) instead of creating copies.\n",
        "\n",
        "2.Randomly choosing one of the k-nearest-neighbors and using it to create a similar, but randomly tweaked, new observations."
      ]
    },
    {
      "cell_type": "markdown",
      "metadata": {
        "id": "ayd_qqZT_xMH",
        "colab_type": "text"
      },
      "source": [
        "**Splitting Dataset**"
      ]
    },
    {
      "cell_type": "code",
      "metadata": {
        "id": "kamYlkGp_xMI",
        "colab_type": "code",
        "colab": {}
      },
      "source": [
        "from sklearn.model_selection import train_test_split\n",
        "\n",
        "X_train, X_test, y_train, y_test = train_test_split(X, y, test_size=0.3, random_state=0)\n"
      ],
      "execution_count": 40,
      "outputs": []
    },
    {
      "cell_type": "markdown",
      "metadata": {
        "id": "kKkKYUQ__xMQ",
        "colab_type": "text"
      },
      "source": [
        "**Oversamplying minority class with SMOTE**"
      ]
    },
    {
      "cell_type": "code",
      "metadata": {
        "id": "U1o2M3gJ_xMR",
        "colab_type": "code",
        "colab": {
          "base_uri": "https://localhost:8080/",
          "height": 102
        },
        "outputId": "cd151dd8-349c-4be0-ff88-10a43074db8e"
      },
      "source": [
        "sm = SMOTE(random_state=0)\n",
        "X_train_res, y_train_res = sm.fit_sample(X_train, y_train)\n",
        "\n",
        "print('After OverSampling, the shape of train_X: {}'.format(X_train_res.shape))\n",
        "print('After OverSampling, the shape of train_y: {} \\n'.format(y_train_res.shape))\n",
        "\n",
        "print(\"After OverSampling, counts of label '1': {}\".format(sum(y_train_res==1)))\n",
        "print(\"After OverSampling, counts of label '0': {}\".format(sum(y_train_res==0)))"
      ],
      "execution_count": 41,
      "outputs": [
        {
          "output_type": "stream",
          "text": [
            "After OverSampling, the shape of train_X: (7216, 40)\n",
            "After OverSampling, the shape of train_y: (7216,) \n",
            "\n",
            "After OverSampling, counts of label '1': 3608\n",
            "After OverSampling, counts of label '0': 3608\n"
          ],
          "name": "stdout"
        }
      ]
    },
    {
      "cell_type": "markdown",
      "metadata": {
        "id": "8p082HE0_xMV",
        "colab_type": "text"
      },
      "source": [
        "Now we have a perfect balanced data!I only over-sampled on the training data, because by oversampling only on the training data, none of the information in the test data is being used to create synthetic observations, therefore, no information will bleed from test data into the model training."
      ]
    },
    {
      "cell_type": "markdown",
      "metadata": {
        "id": "Sf9OmzvM_xMW",
        "colab_type": "text"
      },
      "source": [
        "**FITTING DIFFERENT MODELS**\n",
        "\n",
        "Loading the Models"
      ]
    },
    {
      "cell_type": "code",
      "metadata": {
        "id": "nXTYDPle_xMX",
        "colab_type": "code",
        "colab": {}
      },
      "source": [
        "from sklearn.neighbors import KNeighborsClassifier as KNN\n",
        "from sklearn.linear_model import LogisticRegression\n",
        "from sklearn.svm import SVC\n",
        "from sklearn.tree import DecisionTreeClassifier\n",
        "from sklearn.ensemble import RandomForestClassifier\n",
        "from sklearn.model_selection import GridSearchCV"
      ],
      "execution_count": 42,
      "outputs": []
    },
    {
      "cell_type": "code",
      "metadata": {
        "id": "X8P0XP83_xMb",
        "colab_type": "code",
        "colab": {
          "base_uri": "https://localhost:8080/",
          "height": 85
        },
        "outputId": "5460bf80-efa0-40e3-f8f2-374049cd7419"
      },
      "source": [
        "models = [('knn', KNN), \n",
        "          ('logistic', LogisticRegression),\n",
        "          ('tree', DecisionTreeClassifier),\n",
        "          ('forest', RandomForestClassifier)\n",
        "         ]\n",
        "\n",
        "param_choices = [\n",
        "    {\n",
        "        'n_neighbors': range(1, 12)\n",
        "    },\n",
        "    {\n",
        "        'C': np.logspace(-3,6, 12),\n",
        "        'penalty': ['l1', 'l2']\n",
        "    },\n",
        "    {\n",
        "        'max_depth': [1,2,3,4,5],\n",
        "        'min_samples_leaf': [3,6,10]\n",
        "    },\n",
        "    {\n",
        "        'n_estimators': [50, 100, 200],\n",
        "        'max_depth': [1,2,3,4,5],\n",
        "        'min_samples_leaf': [3,6,10]\n",
        "    }\n",
        "]\n",
        "\n",
        "grids = {}\n",
        "for model_info, params in zip(models, param_choices):\n",
        "    name, model = model_info\n",
        "    grid = GridSearchCV(model(), params)\n",
        "    grid.fit(X_train_res, y_train_res)\n",
        "    s = f\"{name}: best score: {grid.best_score_}\"\n",
        "    print(s)\n",
        "    grids[name] = grid"
      ],
      "execution_count": 43,
      "outputs": [
        {
          "output_type": "stream",
          "text": [
            "knn: best score: 0.7986426976731686\n",
            "logistic: best score: 0.7759135227279271\n",
            "tree: best score: 0.7962966695653676\n",
            "forest: best score: 0.823597921381855\n"
          ],
          "name": "stdout"
        }
      ]
    },
    {
      "cell_type": "markdown",
      "metadata": {
        "id": "hy42q-Q2_xMf",
        "colab_type": "text"
      },
      "source": [
        "**RANDOM FORESTS**\n",
        "\n",
        "**Using Gridsearch to find the best parameters**"
      ]
    },
    {
      "cell_type": "code",
      "metadata": {
        "id": "SLF2l3Hb_xMg",
        "colab_type": "code",
        "colab": {}
      },
      "source": [
        "param_grid = { \n",
        "    'n_estimators': [50, 100, 200],\n",
        "    'max_features': ['auto', 'sqrt', 'log2'],\n",
        "    'max_depth' : [2,4,5,6,7,8],\n",
        "    'criterion' :['gini', 'entropy']\n",
        "}"
      ],
      "execution_count": 44,
      "outputs": []
    },
    {
      "cell_type": "code",
      "metadata": {
        "id": "meVWwNfB_xMk",
        "colab_type": "code",
        "colab": {
          "base_uri": "https://localhost:8080/",
          "height": 391
        },
        "outputId": "42af5b36-a51b-423f-e328-14df90094413"
      },
      "source": [
        "from sklearn.ensemble import RandomForestClassifier\n",
        "rfc=RandomForestClassifier(random_state=42)\n",
        "\n",
        "rfc = GridSearchCV(estimator=rfc, param_grid=param_grid, cv= 5)\n",
        "rfc.fit(X_train_res, y_train_res)"
      ],
      "execution_count": 45,
      "outputs": [
        {
          "output_type": "execute_result",
          "data": {
            "text/plain": [
              "GridSearchCV(cv=5, error_score=nan,\n",
              "             estimator=RandomForestClassifier(bootstrap=True, ccp_alpha=0.0,\n",
              "                                              class_weight=None,\n",
              "                                              criterion='gini', max_depth=None,\n",
              "                                              max_features='auto',\n",
              "                                              max_leaf_nodes=None,\n",
              "                                              max_samples=None,\n",
              "                                              min_impurity_decrease=0.0,\n",
              "                                              min_impurity_split=None,\n",
              "                                              min_samples_leaf=1,\n",
              "                                              min_samples_split=2,\n",
              "                                              min_weight_fraction_leaf=0.0,\n",
              "                                              n_estimators=100, n_jobs=None,\n",
              "                                              oob_score=False, random_state=42,\n",
              "                                              verbose=0, warm_start=False),\n",
              "             iid='deprecated', n_jobs=None,\n",
              "             param_grid={'criterion': ['gini', 'entropy'],\n",
              "                         'max_depth': [2, 4, 5, 6, 7, 8],\n",
              "                         'max_features': ['auto', 'sqrt', 'log2'],\n",
              "                         'n_estimators': [50, 100, 200]},\n",
              "             pre_dispatch='2*n_jobs', refit=True, return_train_score=False,\n",
              "             scoring=None, verbose=0)"
            ]
          },
          "metadata": {
            "tags": []
          },
          "execution_count": 45
        }
      ]
    },
    {
      "cell_type": "code",
      "metadata": {
        "id": "tySikLc-_xMn",
        "colab_type": "code",
        "colab": {
          "base_uri": "https://localhost:8080/",
          "height": 85
        },
        "outputId": "97544d66-8a05-496b-84fb-2cc3cbf2c735"
      },
      "source": [
        "rfc.best_params_"
      ],
      "execution_count": 46,
      "outputs": [
        {
          "output_type": "execute_result",
          "data": {
            "text/plain": [
              "{'criterion': 'entropy',\n",
              " 'max_depth': 8,\n",
              " 'max_features': 'auto',\n",
              " 'n_estimators': 200}"
            ]
          },
          "metadata": {
            "tags": []
          },
          "execution_count": 46
        }
      ]
    },
    {
      "cell_type": "markdown",
      "metadata": {
        "id": "zjZQ4cgc_xMq",
        "colab_type": "text"
      },
      "source": [
        "**Fitting Randon Forest Model** with best parameters"
      ]
    },
    {
      "cell_type": "code",
      "metadata": {
        "id": "nDDTiRJ3_xMr",
        "colab_type": "code",
        "colab": {}
      },
      "source": [
        "rfc_best=RandomForestClassifier(random_state=42, max_features='auto', n_estimators= 50, max_depth=8, criterion='gini')"
      ],
      "execution_count": 47,
      "outputs": []
    },
    {
      "cell_type": "code",
      "metadata": {
        "id": "GRuaHf0n_xMu",
        "colab_type": "code",
        "colab": {
          "base_uri": "https://localhost:8080/",
          "height": 153
        },
        "outputId": "1997ffe2-cb4f-41e5-f350-783ffd708b18"
      },
      "source": [
        "rfc_best.fit(X_train_res, y_train_res)"
      ],
      "execution_count": 48,
      "outputs": [
        {
          "output_type": "execute_result",
          "data": {
            "text/plain": [
              "RandomForestClassifier(bootstrap=True, ccp_alpha=0.0, class_weight=None,\n",
              "                       criterion='gini', max_depth=8, max_features='auto',\n",
              "                       max_leaf_nodes=None, max_samples=None,\n",
              "                       min_impurity_decrease=0.0, min_impurity_split=None,\n",
              "                       min_samples_leaf=1, min_samples_split=2,\n",
              "                       min_weight_fraction_leaf=0.0, n_estimators=50,\n",
              "                       n_jobs=None, oob_score=False, random_state=42, verbose=0,\n",
              "                       warm_start=False)"
            ]
          },
          "metadata": {
            "tags": []
          },
          "execution_count": 48
        }
      ]
    },
    {
      "cell_type": "code",
      "metadata": {
        "id": "CjIN_QhV_xMy",
        "colab_type": "code",
        "colab": {}
      },
      "source": [
        "y_pred_rfc=rfc_best.predict(X_test)"
      ],
      "execution_count": 49,
      "outputs": []
    },
    {
      "cell_type": "markdown",
      "metadata": {
        "id": "m6j51G6D_xM1",
        "colab_type": "text"
      },
      "source": [
        "**Evaluating Random Forest Model**\n"
      ]
    },
    {
      "cell_type": "code",
      "metadata": {
        "id": "7VLhRugo_xM2",
        "colab_type": "code",
        "colab": {
          "base_uri": "https://localhost:8080/",
          "height": 51
        },
        "outputId": "f4b0af5f-2a93-4b10-ebfc-cd151c7c6b88"
      },
      "source": [
        "from sklearn.metrics import confusion_matrix\n",
        "\n",
        "\n",
        "confusion_matrix_forest = confusion_matrix(y_test, y_pred_rfc)\n",
        "print(confusion_matrix_forest)"
      ],
      "execution_count": 50,
      "outputs": [
        {
          "output_type": "stream",
          "text": [
            "[[1290  265]\n",
            " [ 203  352]]\n"
          ],
          "name": "stdout"
        }
      ]
    },
    {
      "cell_type": "code",
      "metadata": {
        "id": "xQMuB52y_xM5",
        "colab_type": "code",
        "colab": {
          "base_uri": "https://localhost:8080/",
          "height": 355
        },
        "outputId": "a23e880f-652f-46cc-ae13-2909b07c1453"
      },
      "source": [
        "import seaborn as sns\n",
        "\n",
        "#plotting a confusion matrix\n",
        "labels = ['Not Churned', 'Churned']\n",
        "plt.figure(figsize=(7,5))\n",
        "ax= plt.subplot()\n",
        "sns.heatmap(confusion_matrix_forest,cmap=\"Blues\",annot=True,fmt='.1f', ax = ax); #annot=True to annotate cells\n",
        "\n",
        "# labels, title and ticks\n",
        "ax.set_xticklabels(labels)\n",
        "ax.set_yticklabels(labels)\n",
        "ax.set_xlabel('Predicted labels');ax.set_ylabel('True labels'); \n",
        "ax.set_title('Confusion Matrix Random Forests'); "
      ],
      "execution_count": 51,
      "outputs": [
        {
          "output_type": "display_data",
          "data": {
            "image/png": "[encoded data removed]",
            "text/plain": [
              "<Figure size 504x360 with 2 Axes>"
            ]
          },
          "metadata": {
            "tags": []
          }
        }
      ]
    },
    {
      "cell_type": "markdown",
      "metadata": {
        "id": "H-hQCE9z_xM8",
        "colab_type": "text"
      },
      "source": [
        "**Printing the Classification Report**"
      ]
    },
    {
      "cell_type": "code",
      "metadata": {
        "id": "7ZGh0lyh_xM9",
        "colab_type": "code",
        "colab": {
          "base_uri": "https://localhost:8080/",
          "height": 170
        },
        "outputId": "a3b1acb9-0a8f-4395-f24c-38354b4a39e1"
      },
      "source": [
        "from sklearn.metrics import classification_report\n",
        "print(classification_report(y_test, y_pred_rfc)) "
      ],
      "execution_count": 52,
      "outputs": [
        {
          "output_type": "stream",
          "text": [
            "              precision    recall  f1-score   support\n",
            "\n",
            "           0       0.86      0.83      0.85      1555\n",
            "           1       0.57      0.63      0.60       555\n",
            "\n",
            "    accuracy                           0.78      2110\n",
            "   macro avg       0.72      0.73      0.72      2110\n",
            "weighted avg       0.79      0.78      0.78      2110\n",
            "\n"
          ],
          "name": "stdout"
        }
      ]
    },
    {
      "cell_type": "markdown",
      "metadata": {
        "id": "mD-zaBd6_xNA",
        "colab_type": "text"
      },
      "source": [
        "**Calculating Area Under the Curve**"
      ]
    },
    {
      "cell_type": "code",
      "metadata": {
        "id": "BKMHBeKl_xNA",
        "colab_type": "code",
        "colab": {
          "base_uri": "https://localhost:8080/",
          "height": 34
        },
        "outputId": "8302b808-dd81-4381-900e-2102e203ee52"
      },
      "source": [
        "from sklearn.metrics import classification_report\n",
        "from sklearn.metrics import roc_auc_score\n",
        "from sklearn.metrics import roc_curve,auc\n",
        "\n",
        "y_pred_rfc=rfc_best.predict(X_test)\n",
        "y_score_rfc = rfc_best.predict_proba(X_test)[:,1]\n",
        "fpr, tpr,_ = roc_curve(y_test, y_score_rfc)\n",
        "roc_auc_forests = auc(fpr, tpr)\n",
        "print(roc_auc_forests)\n",
        "\n"
      ],
      "execution_count": 53,
      "outputs": [
        {
          "output_type": "stream",
          "text": [
            "0.8343176617131601\n"
          ],
          "name": "stdout"
        }
      ]
    },
    {
      "cell_type": "markdown",
      "metadata": {
        "id": "rkERHhCO_xND",
        "colab_type": "text"
      },
      "source": [
        "**LOGISTIC REGRESSION (Final Model)** \n",
        "\n",
        "It’s clear that false negatives are substantially more costly than false positives **(Discussed Under Cost Evaluation)**.Out of all the models tested,Logistic regression has the highest recall for class 1 (Customers Churned) and least numnber of false negatives.So I selected Logistic regression as my final model.\n",
        "\n",
        "**Using Gridsearch to find the best parameters**"
      ]
    },
    {
      "cell_type": "code",
      "metadata": {
        "id": "pRsqtBqx_xNE",
        "colab_type": "code",
        "colab": {
          "base_uri": "https://localhost:8080/",
          "height": 102
        },
        "outputId": "7707ec1c-ee35-433f-ae1f-85e82cabe6c0"
      },
      "source": [
        "from sklearn import metrics\n",
        "logreg = LogisticRegression()\n",
        "logreg.fit(X_train_res, y_train_res)"
      ],
      "execution_count": 54,
      "outputs": [
        {
          "output_type": "execute_result",
          "data": {
            "text/plain": [
              "LogisticRegression(C=1.0, class_weight=None, dual=False, fit_intercept=True,\n",
              "                   intercept_scaling=1, l1_ratio=None, max_iter=100,\n",
              "                   multi_class='auto', n_jobs=None, penalty='l2',\n",
              "                   random_state=None, solver='lbfgs', tol=0.0001, verbose=0,\n",
              "                   warm_start=False)"
            ]
          },
          "metadata": {
            "tags": []
          },
          "execution_count": 54
        }
      ]
    },
    {
      "cell_type": "markdown",
      "metadata": {
        "id": "iHpTO2if_xNI",
        "colab_type": "text"
      },
      "source": [
        "**More efficient parameter tuning using GridSearchCV**"
      ]
    },
    {
      "cell_type": "code",
      "metadata": {
        "id": "Fh4mG18F_xNK",
        "colab_type": "code",
        "colab": {
          "base_uri": "https://localhost:8080/",
          "height": 136
        },
        "outputId": "ea335b22-cb63-479d-a11d-102cc73540a3"
      },
      "source": [
        "from sklearn.model_selection import GridSearchCV\n",
        "# Setup the hyperparameter grid\n",
        "c_space = np.logspace(-3,6, 12)\n",
        "param_grid = {'C': c_space}\n",
        "\n",
        "# Instantiate a logistic regression classifier: logreg\n",
        "logreg = LogisticRegression()\n",
        "\n",
        "# Instantiate the GridSearchCV object: logreg_cv\n",
        "logreg_cv = GridSearchCV(logreg, param_grid, cv=10)\n",
        "\n",
        "# Fit it to the data\n",
        "best_model = logreg_cv.fit(X_train_res, y_train_res)\n",
        "\n",
        "#examine the best model\n",
        "print(best_model.best_score_)\n",
        "print(best_model.best_params_)\n",
        "print(best_model.best_estimator_)"
      ],
      "execution_count": 55,
      "outputs": [
        {
          "output_type": "stream",
          "text": [
            "0.7773024154663613\n",
            "{'C': 533.6699231206312}\n",
            "LogisticRegression(C=533.6699231206312, class_weight=None, dual=False,\n",
            "                   fit_intercept=True, intercept_scaling=1, l1_ratio=None,\n",
            "                   max_iter=100, multi_class='auto', n_jobs=None, penalty='l2',\n",
            "                   random_state=None, solver='lbfgs', tol=0.0001, verbose=0,\n",
            "                   warm_start=False)\n"
          ],
          "name": "stdout"
        }
      ]
    },
    {
      "cell_type": "markdown",
      "metadata": {
        "id": "UENpAZE5_xNO",
        "colab_type": "text"
      },
      "source": [
        "**Fitting Logistic Regression with best parameters**"
      ]
    },
    {
      "cell_type": "code",
      "metadata": {
        "id": "33N7AzyT_xNO",
        "colab_type": "code",
        "colab": {
          "base_uri": "https://localhost:8080/",
          "height": 102
        },
        "outputId": "ec934c8d-6605-45eb-81dd-c3e0143bfba5"
      },
      "source": [
        "best_lr1 = LogisticRegression(C=0.8)\n",
        "best_lr1.fit(X_train_res, y_train_res)"
      ],
      "execution_count": 56,
      "outputs": [
        {
          "output_type": "execute_result",
          "data": {
            "text/plain": [
              "LogisticRegression(C=0.8, class_weight=None, dual=False, fit_intercept=True,\n",
              "                   intercept_scaling=1, l1_ratio=None, max_iter=100,\n",
              "                   multi_class='auto', n_jobs=None, penalty='l2',\n",
              "                   random_state=None, solver='lbfgs', tol=0.0001, verbose=0,\n",
              "                   warm_start=False)"
            ]
          },
          "metadata": {
            "tags": []
          },
          "execution_count": 56
        }
      ]
    },
    {
      "cell_type": "code",
      "metadata": {
        "id": "SpRhT1QR_xNT",
        "colab_type": "code",
        "colab": {
          "base_uri": "https://localhost:8080/",
          "height": 51
        },
        "outputId": "be031040-573f-48c2-870e-4ae2814c63e0"
      },
      "source": [
        "from sklearn.metrics import confusion_matrix\n",
        "y_pred_log = best_lr1.predict(X_test)\n",
        "confusion_matrix_log = confusion_matrix(y_test, y_pred_log)\n",
        "print(confusion_matrix_log)"
      ],
      "execution_count": 57,
      "outputs": [
        {
          "output_type": "stream",
          "text": [
            "[[1156  399]\n",
            " [ 112  443]]\n"
          ],
          "name": "stdout"
        }
      ]
    },
    {
      "cell_type": "markdown",
      "metadata": {
        "id": "J6UNIkJk_xNW",
        "colab_type": "text"
      },
      "source": [
        "**Printiong the Classification Report**"
      ]
    },
    {
      "cell_type": "code",
      "metadata": {
        "id": "mcE0i_NJ_xNX",
        "colab_type": "code",
        "colab": {
          "base_uri": "https://localhost:8080/",
          "height": 170
        },
        "outputId": "d66c2664-2764-4741-d827-55737f6368e9"
      },
      "source": [
        "from sklearn.metrics import classification_report\n",
        "print(classification_report(y_test, y_pred_log)) "
      ],
      "execution_count": 58,
      "outputs": [
        {
          "output_type": "stream",
          "text": [
            "              precision    recall  f1-score   support\n",
            "\n",
            "           0       0.91      0.74      0.82      1555\n",
            "           1       0.53      0.80      0.63       555\n",
            "\n",
            "    accuracy                           0.76      2110\n",
            "   macro avg       0.72      0.77      0.73      2110\n",
            "weighted avg       0.81      0.76      0.77      2110\n",
            "\n"
          ],
          "name": "stdout"
        }
      ]
    },
    {
      "cell_type": "markdown",
      "metadata": {
        "id": "xoUUB6J4_xNa",
        "colab_type": "text"
      },
      "source": [
        "**Plotting the Confusion Matrix**"
      ]
    },
    {
      "cell_type": "code",
      "metadata": {
        "id": "UhePiaGG_xNa",
        "colab_type": "code",
        "colab": {
          "base_uri": "https://localhost:8080/",
          "height": 355
        },
        "outputId": "9ddc7f67-ae01-49f2-d7f9-18aa70407fe0"
      },
      "source": [
        "import seaborn as sns\n",
        "labels = ['Not Churned', 'Churned']\n",
        "\n",
        "plt.figure(figsize=(7,5))\n",
        "ax= plt.subplot()\n",
        "sns.heatmap(confusion_matrix_log,cmap=\"Blues\",annot=True,fmt='.1f', ax = ax); #annot=True to annotate cells\n",
        "\n",
        "# labels, title and ticks\n",
        "ax.set_xticklabels(labels)\n",
        "ax.set_yticklabels(labels)\n",
        "ax.set_xlabel('Predicted labels');ax.set_ylabel('True labels'); \n",
        "ax.set_title('Confusion Matrix ');\n"
      ],
      "execution_count": 59,
      "outputs": [
        {
          "output_type": "display_data",
          "data": {
            "image/png": "[encoded data removed]",
            "text/plain": [
              "<Figure size 504x360 with 2 Axes>"
            ]
          },
          "metadata": {
            "tags": []
          }
        }
      ]
    },
    {
      "cell_type": "code",
      "metadata": {
        "id": "7A3lRLP6_xNd",
        "colab_type": "code",
        "colab": {
          "base_uri": "https://localhost:8080/",
          "height": 34
        },
        "outputId": "5cd8437f-5239-4f71-f441-450ae8a9a9f3"
      },
      "source": [
        "from sklearn.metrics import classification_report\n",
        "from sklearn.metrics import roc_auc_score\n",
        "from sklearn.metrics import roc_curve,auc\n",
        "\n",
        "y_pred_log=best_lr1.predict(X_test)\n",
        "y_score_log = best_lr1.predict_proba(X_test)[:,1]\n",
        "fpr, tpr,_ = roc_curve(y_test, y_score_log)\n",
        "roc_auc_log = auc(fpr, tpr)\n",
        "print(roc_auc_log)"
      ],
      "execution_count": 60,
      "outputs": [
        {
          "output_type": "stream",
          "text": [
            "0.8362231685061268\n"
          ],
          "name": "stdout"
        }
      ]
    },
    {
      "cell_type": "markdown",
      "metadata": {
        "id": "fP7pN3BX_xNi",
        "colab_type": "text"
      },
      "source": [
        "**AUC Curves for Logiostic Regression**"
      ]
    },
    {
      "cell_type": "code",
      "metadata": {
        "id": "2ssUAn-3_xNi",
        "colab_type": "code",
        "colab": {
          "base_uri": "https://localhost:8080/",
          "height": 414
        },
        "outputId": "7f9983e6-9906-49df-8c75-f0e1868b65a2"
      },
      "source": [
        "from sklearn.metrics import roc_auc_score\n",
        "from sklearn.metrics import roc_curve,auc\n",
        "from seaborn import despine\n",
        "\n",
        "logit_roc_auc = roc_auc_score(y_test, best_lr1.predict(X_test))\n",
        "fpr, tpr, thresholds = roc_curve(y_test, best_lr1.predict_proba(X_test)[:,1])\n",
        "\n",
        "roc_auc = auc(fpr,tpr)\n",
        "\n",
        "plt.figure(figsize=(6,6))\n",
        "\n",
        "\n",
        "# Plotting our Baseline..\n",
        "plt.plot([0,1],[0,1],'k--')\n",
        "plt.plot(fpr, tpr,'g',label='AUC = %0.3f'% roc_auc)\n",
        "plt.legend(loc='lower right')\n",
        "plt.title('ROC Curve',fontsize = 15)\n",
        "plt.xlabel('False Positive Rate',fontsize = 15)\n",
        "plt.ylabel('True Positive Rate',rotation=0,labelpad=45,fontsize = 15)\n",
        "despine()"
      ],
      "execution_count": 61,
      "outputs": [
        {
          "output_type": "display_data",
          "data": {
            "image/png": "[encoded data removed]",
            "text/plain": [
              "<Figure size 432x432 with 1 Axes>"
            ]
          },
          "metadata": {
            "tags": []
          }
        }
      ]
    },
    {
      "cell_type": "markdown",
      "metadata": {
        "id": "I8SthBXK_xNl",
        "colab_type": "text"
      },
      "source": [
        "**Optimal Threshold**"
      ]
    },
    {
      "cell_type": "code",
      "metadata": {
        "id": "nRKcEbHj_xNm",
        "colab_type": "code",
        "colab": {
          "base_uri": "https://localhost:8080/",
          "height": 412
        },
        "outputId": "e1a32015-df3e-41c6-909b-5466fa0188f6"
      },
      "source": [
        "logit_roc_auc = roc_auc_score(y_test, best_lr1.predict(X_test))\n",
        "fpr, tpr, thresholds = roc_curve(y_test, best_lr1.predict_proba(X_test)[:,1])\n",
        "\n",
        "roc_auc = auc(fpr,tpr)\n",
        "\n",
        "plt.figure(figsize=(6,6))\n",
        "\n",
        "\n",
        "# Plotting our Baseline..\n",
        "plt.plot([0,1],[0,1],'k--')\n",
        "plt.plot(fpr, tpr, 'g',label='AUC = %0.3f'% roc_auc)\n",
        "plt.annotate('optimal threshold', xy=(0.59, 0.96), xytext=(0.5, 0.8),\n",
        "            arrowprops=dict(facecolor='black', shrink=0.05),\n",
        "            )\n",
        "plt.legend(loc='lower right')\n",
        "plt.title('ROC Curve')\n",
        "plt.xlabel('False Positive Rate',fontsize = 15)\n",
        "plt.ylabel('True Positive Rate',rotation=0,labelpad=45,fontsize = 15)\n",
        "despine()"
      ],
      "execution_count": 62,
      "outputs": [
        {
          "output_type": "display_data",
          "data": {
            "image/png": "[encoded data removed]",
            "text/plain": [
              "<Figure size 432x432 with 1 Axes>"
            ]
          },
          "metadata": {
            "tags": []
          }
        }
      ]
    },
    {
      "cell_type": "markdown",
      "metadata": {
        "id": "3yuYHj2C_xNp",
        "colab_type": "text"
      },
      "source": [
        "**SVM MODELS**\n",
        "\n",
        "**rbf kernel**"
      ]
    },
    {
      "cell_type": "code",
      "metadata": {
        "id": "NeIH1q3e_xNp",
        "colab_type": "code",
        "colab": {
          "base_uri": "https://localhost:8080/",
          "height": 34
        },
        "outputId": "cfd7464f-cd78-475e-ee9c-8149cdbd4ca4"
      },
      "source": [
        "# Finding best parameters for rbf kernel.\n",
        "from sklearn.model_selection import GridSearchCV\n",
        "from sklearn import svm\n",
        "\n",
        "def svc_param_selection(X, y, nfolds):\n",
        "    Cs = [0.001, 0.01, 0.1, 1, 10]\n",
        "    gammas = [0.001, 0.01, 0.1, 1]\n",
        "    param_grid = {'C': Cs, 'gamma' : gammas}\n",
        "    grid_search = GridSearchCV(svm.SVC(kernel='rbf'), param_grid, cv=nfolds)\n",
        "    grid_search.fit(X, y)\n",
        "    grid_search.best_params_\n",
        "    return grid_search.best_params_\n",
        "\n",
        "svc_param_selection(X_train_res,y_train_res,5)"
      ],
      "execution_count": 63,
      "outputs": [
        {
          "output_type": "execute_result",
          "data": {
            "text/plain": [
              "{'C': 10, 'gamma': 0.1}"
            ]
          },
          "metadata": {
            "tags": []
          },
          "execution_count": 63
        }
      ]
    },
    {
      "cell_type": "code",
      "metadata": {
        "id": "PMjDsJxJ_xNs",
        "colab_type": "code",
        "colab": {
          "base_uri": "https://localhost:8080/",
          "height": 85
        },
        "outputId": "56e637e3-b8e5-45ff-a4f9-bc417ceff543"
      },
      "source": [
        "model_svm2 = svm.SVC(kernel='rbf', gamma = 0.001) #Gamma is the free parameter of the Gaussian radial basis function.\n",
        "model_svm2.fit(X_train_res, y_train_res)"
      ],
      "execution_count": 64,
      "outputs": [
        {
          "output_type": "execute_result",
          "data": {
            "text/plain": [
              "SVC(C=1.0, break_ties=False, cache_size=200, class_weight=None, coef0=0.0,\n",
              "    decision_function_shape='ovr', degree=3, gamma=0.001, kernel='rbf',\n",
              "    max_iter=-1, probability=False, random_state=None, shrinking=True,\n",
              "    tol=0.001, verbose=False)"
            ]
          },
          "metadata": {
            "tags": []
          },
          "execution_count": 64
        }
      ]
    },
    {
      "cell_type": "code",
      "metadata": {
        "id": "CM0VaZ7M_xNv",
        "colab_type": "code",
        "colab": {}
      },
      "source": [
        "# predict out of sample\n",
        "y_pred1 = model_svm2.predict(X_test)"
      ],
      "execution_count": 65,
      "outputs": []
    },
    {
      "cell_type": "code",
      "metadata": {
        "id": "h5mAhted_xNx",
        "colab_type": "code",
        "colab": {
          "base_uri": "https://localhost:8080/",
          "height": 51
        },
        "outputId": "c515ba2e-ce09-4079-fe5b-e587ab48b4cd"
      },
      "source": [
        "cm_svm_rbf=confusion_matrix(y_test,y_pred1)\n",
        "print(cm_svm_rbf)"
      ],
      "execution_count": 66,
      "outputs": [
        {
          "output_type": "stream",
          "text": [
            "[[1132  423]\n",
            " [ 170  385]]\n"
          ],
          "name": "stdout"
        }
      ]
    },
    {
      "cell_type": "code",
      "metadata": {
        "id": "EsiiyqvE_xN5",
        "colab_type": "code",
        "colab": {
          "base_uri": "https://localhost:8080/",
          "height": 301
        },
        "outputId": "315f98fd-24f1-484d-92ac-82e2773f67ef"
      },
      "source": [
        "labels = ['Not Churned', 'Churned']\n",
        "ax= plt.subplot()\n",
        "sns.heatmap(cm_svm_rbf,cmap=\"Blues\", ax = ax); #annot=True to annotate cells\n",
        "\n",
        "# labels, title and ticks\n",
        "ax.set_xticklabels(labels)\n",
        "ax.set_yticklabels(labels)\n",
        "ax.set_xlabel('Predicted labels');ax.set_ylabel('True labels'); \n",
        "ax.set_title('Confusion Matrix SVM ');"
      ],
      "execution_count": 67,
      "outputs": [
        {
          "output_type": "display_data",
          "data": {
            "image/png": "[encoded data removed]",
            "text/plain": [
              "<Figure size 432x288 with 2 Axes>"
            ]
          },
          "metadata": {
            "tags": []
          }
        }
      ]
    },
    {
      "cell_type": "markdown",
      "metadata": {
        "id": "rQdUCXhn_xN9",
        "colab_type": "text"
      },
      "source": [
        "**Linear Kernel**"
      ]
    },
    {
      "cell_type": "code",
      "metadata": {
        "id": "Xp8nuDap_xN-",
        "colab_type": "code",
        "colab": {}
      },
      "source": [
        "# Finding best parameters for linear kernel.\n",
        "from sklearn.model_selection import GridSearchCV\n",
        "from sklearn import svm\n",
        "\n",
        "def svc_param_selection(X, y, nfolds):\n",
        "    Cs = [0.001, 0.01, 0.1, 1, 10]\n",
        "    gammas = [0.001, 0.01, 0.1, 1]\n",
        "    param_grid = {'C': Cs, 'gamma' : gammas}\n",
        "    grid_search = GridSearchCV(svm.SVC(kernel='linear'), param_grid, cv=nfolds)\n",
        "    grid_search.fit(X, y)\n",
        "    grid_search.best_params_\n",
        "    return grid_search.best_params_\n",
        "\n",
        "svc_param_selection(X_train_res,y_train_res,5)"
      ],
      "execution_count": null,
      "outputs": []
    },
    {
      "cell_type": "code",
      "metadata": {
        "id": "n8QmUUtj_xOA",
        "colab_type": "code",
        "colab": {}
      },
      "source": [
        "model_svm1 = svm.SVC(kernel='linear', gamma = 0.001) #Gamma is the free parameter of the Gaussian radial basis function.\n",
        "model_svm1.fit(X_train_res, y_train_res)"
      ],
      "execution_count": null,
      "outputs": []
    },
    {
      "cell_type": "code",
      "metadata": {
        "id": "0_cObcVM_xOF",
        "colab_type": "code",
        "colab": {}
      },
      "source": [
        "# predict out of sample\n",
        "y_pred1 = model_svm2.predict(X_test)"
      ],
      "execution_count": null,
      "outputs": []
    },
    {
      "cell_type": "code",
      "metadata": {
        "id": "QXqYDEho_xON",
        "colab_type": "code",
        "colab": {}
      },
      "source": [
        "cm_svm_linear=confusion_matrix(y_test,y_pred1)\n",
        "print(cm_svm_linear)"
      ],
      "execution_count": null,
      "outputs": []
    },
    {
      "cell_type": "code",
      "metadata": {
        "id": "4e0I8fbL_xOS",
        "colab_type": "code",
        "colab": {}
      },
      "source": [
        "labels = ['Not Churned', 'Churned']\n",
        "ax= plt.subplot()\n",
        "sns.heatmap(cm_svm_rbf,cmap=\"Blues\", ax = ax); #annot=True to annotate cells\n",
        "\n",
        "# labels, title and ticks\n",
        "ax.set_xticklabels(labels)\n",
        "ax.set_yticklabels(labels)\n",
        "ax.set_xlabel('Predicted labels');ax.set_ylabel('True labels'); \n",
        "ax.set_title('Confusion Matrix SVM (linear) ');"
      ],
      "execution_count": null,
      "outputs": []
    },
    {
      "cell_type": "markdown",
      "metadata": {
        "id": "l2GSVIov_xOW",
        "colab_type": "text"
      },
      "source": [
        "**KNN  MODEL**"
      ]
    },
    {
      "cell_type": "code",
      "metadata": {
        "id": "coYV8D2E_xOX",
        "colab_type": "code",
        "colab": {
          "base_uri": "https://localhost:8080/",
          "height": 221
        },
        "outputId": "f22169e8-8807-43f6-c710-9da1cef7daea"
      },
      "source": [
        "from sklearn.neighbors import KNeighborsClassifier\n",
        "\n",
        "knn = KNeighborsClassifier()\n",
        "# define the parameter values that should be searched\n",
        "k_range = list(range(1, 100))\n",
        "\n",
        "# create a parameter grid: map the parameter names to the values that should be searched\n",
        "param_grid = dict(n_neighbors=k_range)\n",
        "\n",
        "# instantiate the grid\n",
        "grid = GridSearchCV(knn, param_grid, cv=10, scoring='accuracy')\n",
        "\n",
        "# scalarizing X_train and X_test\n",
        "scaler = StandardScaler()  \n",
        "scaler.fit(X_train)\n",
        "X_train = scaler.transform(X_train)  \n",
        "X_test = scaler.transform(X_test)\n",
        "\n",
        "#fit the grid\n",
        "grid.fit(X_train, y_train)"
      ],
      "execution_count": 69,
      "outputs": [
        {
          "output_type": "execute_result",
          "data": {
            "text/plain": [
              "GridSearchCV(cv=10, error_score=nan,\n",
              "             estimator=KNeighborsClassifier(algorithm='auto', leaf_size=30,\n",
              "                                            metric='minkowski',\n",
              "                                            metric_params=None, n_jobs=None,\n",
              "                                            n_neighbors=5, p=2,\n",
              "                                            weights='uniform'),\n",
              "             iid='deprecated', n_jobs=None,\n",
              "             param_grid={'n_neighbors': [1, 2, 3, 4, 5, 6, 7, 8, 9, 10, 11, 12,\n",
              "                                         13, 14, 15, 16, 17, 18, 19, 20, 21, 22,\n",
              "                                         23, 24, 25, 26, 27, 28, 29, 30, ...]},\n",
              "             pre_dispatch='2*n_jobs', refit=True, return_train_score=False,\n",
              "             scoring='accuracy', verbose=0)"
            ]
          },
          "metadata": {
            "tags": []
          },
          "execution_count": 69
        }
      ]
    },
    {
      "cell_type": "code",
      "metadata": {
        "id": "Ua4ItsXg_xOc",
        "colab_type": "code",
        "colab": {
          "base_uri": "https://localhost:8080/",
          "height": 102
        },
        "outputId": "585d9a98-ead3-4f3e-df24-48efdb2b6f54"
      },
      "source": [
        "# examine the best model\n",
        "print(grid.best_score_)\n",
        "print(grid.best_params_)\n",
        "print(grid.best_estimator_)"
      ],
      "execution_count": 70,
      "outputs": [
        {
          "output_type": "stream",
          "text": [
            "0.7935717937301077\n",
            "{'n_neighbors': 68}\n",
            "KNeighborsClassifier(algorithm='auto', leaf_size=30, metric='minkowski',\n",
            "                     metric_params=None, n_jobs=None, n_neighbors=68, p=2,\n",
            "                     weights='uniform')\n"
          ],
          "name": "stdout"
        }
      ]
    },
    {
      "cell_type": "code",
      "metadata": {
        "id": "76hLvXno_xOh",
        "colab_type": "code",
        "colab": {}
      },
      "source": [
        "# train your model using all data and the best known parameters\n",
        "from sklearn.neighbors import KNeighborsClassifier\n",
        "\n",
        "knn = KNeighborsClassifier()\n",
        "knn = KNeighborsClassifier(n_neighbors=79, weights='uniform')\n",
        "knn.fit(X_train, y_train)\n",
        "\n",
        "# make a prediction on out-of-sample data\n",
        "y_pred_knn=knn.predict(X_test)"
      ],
      "execution_count": 71,
      "outputs": []
    },
    {
      "cell_type": "code",
      "metadata": {
        "id": "q08f0Mpm_xOm",
        "colab_type": "code",
        "colab": {
          "base_uri": "https://localhost:8080/",
          "height": 51
        },
        "outputId": "bef896fe-ae0e-4666-a7a1-5b81a56a75f7"
      },
      "source": [
        "from sklearn.metrics import classification_report, confusion_matrix  \n",
        "cm_knn=confusion_matrix(y_test, y_pred_knn)\n",
        "print(cm_knn)"
      ],
      "execution_count": 72,
      "outputs": [
        {
          "output_type": "stream",
          "text": [
            "[[1338  217]\n",
            " [ 242  313]]\n"
          ],
          "name": "stdout"
        }
      ]
    },
    {
      "cell_type": "markdown",
      "metadata": {
        "id": "G2o6BPk-_xOp",
        "colab_type": "text"
      },
      "source": [
        "**Printing the Classification Report**"
      ]
    },
    {
      "cell_type": "code",
      "metadata": {
        "id": "uaotBZqr_xOq",
        "colab_type": "code",
        "colab": {
          "base_uri": "https://localhost:8080/",
          "height": 170
        },
        "outputId": "ed74ce03-712a-47dd-cc70-72e6f21cfc58"
      },
      "source": [
        "print(classification_report(y_test, y_pred_knn)) "
      ],
      "execution_count": 73,
      "outputs": [
        {
          "output_type": "stream",
          "text": [
            "              precision    recall  f1-score   support\n",
            "\n",
            "           0       0.85      0.86      0.85      1555\n",
            "           1       0.59      0.56      0.58       555\n",
            "\n",
            "    accuracy                           0.78      2110\n",
            "   macro avg       0.72      0.71      0.72      2110\n",
            "weighted avg       0.78      0.78      0.78      2110\n",
            "\n"
          ],
          "name": "stdout"
        }
      ]
    },
    {
      "cell_type": "markdown",
      "metadata": {
        "id": "KQFOADR8_xOs",
        "colab_type": "text"
      },
      "source": [
        "**Area Under Curve**"
      ]
    },
    {
      "cell_type": "code",
      "metadata": {
        "id": "bR9a8XSA_xOt",
        "colab_type": "code",
        "colab": {
          "base_uri": "https://localhost:8080/",
          "height": 34
        },
        "outputId": "1c184641-0011-415d-a153-acf74537df98"
      },
      "source": [
        "y_pred_knn=knn.predict(X_test)\n",
        "y_score_knn = knn.predict_proba(X_test)[:,1]\n",
        "fpr, tpr,_ = roc_curve(y_test, y_score_knn)\n",
        "roc_auc_knn = auc(fpr, tpr)\n",
        "print(roc_auc_knn)"
      ],
      "execution_count": 74,
      "outputs": [
        {
          "output_type": "stream",
          "text": [
            "0.8268804495814143\n"
          ],
          "name": "stdout"
        }
      ]
    },
    {
      "cell_type": "markdown",
      "metadata": {
        "id": "7hDhQtyH_xOv",
        "colab_type": "text"
      },
      "source": [
        "**Plotting the Confusion Matrix**"
      ]
    },
    {
      "cell_type": "code",
      "metadata": {
        "id": "ULFAM2UJ_xOv",
        "colab_type": "code",
        "colab": {
          "base_uri": "https://localhost:8080/",
          "height": 355
        },
        "outputId": "413c0058-1555-4d38-d0af-58285e43017a"
      },
      "source": [
        "labels = ['Not Churned', 'Churned']\n",
        "plt.figure(figsize=(7,5))\n",
        "ax= plt.subplot()\n",
        "sns.heatmap(cm_knn,cmap=\"Blues\",annot=True,fmt='.1f', ax = ax); #annot=True to annotate cells\n",
        "\n",
        "# labels, title and ticks\n",
        "ax.set_xticklabels(labels)\n",
        "ax.set_yticklabels(labels)\n",
        "ax.set_xlabel('Predicted labels');ax.set_ylabel('True labels'); \n",
        "ax.set_title('Confusion Matrix KNN ');"
      ],
      "execution_count": 75,
      "outputs": [
        {
          "output_type": "display_data",
          "data": {
            "image/png": "[encoded data removed]",
            "text/plain": [
              "<Figure size 504x360 with 2 Axes>"
            ]
          },
          "metadata": {
            "tags": []
          }
        }
      ]
    },
    {
      "cell_type": "markdown",
      "metadata": {
        "id": "mcr1xRWZ_xOy",
        "colab_type": "text"
      },
      "source": [
        "**ROC CURVES OF ALL MODELS TRIED**"
      ]
    },
    {
      "cell_type": "code",
      "metadata": {
        "id": "LucKpPwo_xOz",
        "colab_type": "code",
        "colab": {
          "base_uri": "https://localhost:8080/",
          "height": 414
        },
        "outputId": "45affb1a-d056-4b37-de3a-7c31c4ffe21a"
      },
      "source": [
        "lr_score=best_lr1.predict_proba(X_test)[:,1]\n",
        "rfc_score = rfc_best.predict_proba(X_test)[:,1]\n",
        "#svm_score = model_svm1.predict_proba(xtest)[:,1]\n",
        "knn_score = knn.predict_proba(X_test)[:,1]\n",
        "\n",
        "#l_svm_score = l_svm.predict_proba(xtest)[:,1]\n",
        "\n",
        "lr_fpr, lr_tpr,_ = roc_curve(y_test, lr_score)\n",
        "rfc_fpr, rfc_tpr,_ = roc_curve(y_test, rfc_score)\n",
        "#svm_fpr, svm_tpr,_ = roc_curve(ytest, svm_score)\n",
        "knn_fpr, knn_tpr,_ = roc_curve(y_test, knn_score)\n",
        "roc_auc = auc(fpr, tpr)\n",
        "\n",
        "plt.figure(figsize = (6,6))\n",
        "plt.subplot(1,1,1)\n",
        "# Plotting our Baseline..\n",
        "plt.plot([0,1],[0,1], 'k--')\n",
        "\n",
        "plt.plot(lr_fpr,lr_tpr, label = 'LogisticRegression')\n",
        "plt.plot(rfc_fpr,rfc_tpr, label = 'RandomForrests')\n",
        "plt.plot(knn_fpr,knn_tpr, label = 'KNN K = 15')\n",
        "#plt.plot(l_svm_fpr,l_svm_tpr, label = 'SVM-Linear')\n",
        "\n",
        "plt.legend()\n",
        "plt.grid(True)\n",
        "plt.xlabel('False Positive Rate', fontsize = '15')\n",
        "plt.ylabel('True Positive Rate', fontsize = '15')\n",
        "plt.title('Roc Curves', fontsize = '15')\n",
        "despine()\n",
        "\n",
        "plt.savefig('RocCurve')\n"
      ],
      "execution_count": 76,
      "outputs": [
        {
          "output_type": "display_data",
          "data": {
            "image/png": "[encoded data removed]",
            "text/plain": [
              "<Figure size 432x432 with 1 Axes>"
            ]
          },
          "metadata": {
            "tags": []
          }
        }
      ]
    },
    {
      "cell_type": "markdown",
      "metadata": {
        "id": "dvMtfCMi_xO3",
        "colab_type": "text"
      },
      "source": [
        "**CALCULATING OPTIMAL THRESHOLD**\n",
        "\n",
        "**Including Cost**"
      ]
    },
    {
      "cell_type": "code",
      "metadata": {
        "id": "QYxSZ1yH_xO5",
        "colab_type": "code",
        "colab": {}
      },
      "source": [
        "def makecost(obs,prob,falsepos_cost,falseneg_cost,truepos_cost):\n",
        "    def cost(cutoff):\n",
        "        pred = np.array(prob > cutoff)\n",
        "        fpos = pred * (1 - obs) \n",
        "        fneg = (1 - pred) * obs\n",
        "        tpos=pred*obs\n",
        "        return np.sum(fpos * falsepos_cost + fneg * falseneg_cost+ tpos*truepos_cost)\n",
        "    return np.vectorize(cost)"
      ],
      "execution_count": 77,
      "outputs": []
    },
    {
      "cell_type": "code",
      "metadata": {
        "id": "5sDVsNZ5_xO8",
        "colab_type": "code",
        "colab": {
          "base_uri": "https://localhost:8080/",
          "height": 305
        },
        "outputId": "ab0a7dbb-4906-415d-9e9d-92ee02ac28a3"
      },
      "source": [
        "cut = np.linspace(0,1,100)\n",
        "cost = np.zeros_like(cut)\n",
        "from sklearn.model_selection import KFold, cross_val_predict\n",
        "obs = np.ravel(y_train)\n",
        "\n",
        "K = 10\n",
        "for j in range(K):\n",
        "    folds = KFold(n_splits=5,shuffle=True)\n",
        "    prob = cross_val_predict(best_lr1,X_train,obs,cv=folds,method='predict_proba',n_jobs=5)[:,1]\n",
        "    getcost = makecost(obs,prob,falsepos_cost=100,falseneg_cost=500,truepos_cost=200)\n",
        "    currentcost = getcost(cut)/X_train.shape[0]\n",
        "    cost += currentcost\n",
        "    plt.plot(cut, currentcost,c='C0',alpha=0.05)\n",
        "cost /= K\n",
        "\n",
        "plt.plot(cut,cost,c='C0')\n",
        "plt.xlabel('cutoff',fontsize = 15)\n",
        "plt.ylabel('Expected cost per data point',labelpad=69,fontsize = 15,rotation=0)\n",
        "plt.title(\"Optimal Threshold\",fontsize=15)\n",
        "despine()"
      ],
      "execution_count": 78,
      "outputs": [
        {
          "output_type": "display_data",
          "data": {
            "image/png": "[encoded data removed]",
            "text/plain": [
              "<Figure size 432x288 with 1 Axes>"
            ]
          },
          "metadata": {
            "tags": []
          }
        }
      ]
    },
    {
      "cell_type": "code",
      "metadata": {
        "id": "iXbbkgUE_xPC",
        "colab_type": "code",
        "colab": {
          "base_uri": "https://localhost:8080/",
          "height": 34
        },
        "outputId": "8542b586-60cb-4a95-f37f-47afc4bff964"
      },
      "source": [
        "bestcut = cut[np.argmin(cost)]\n",
        "bestcut"
      ],
      "execution_count": 79,
      "outputs": [
        {
          "output_type": "execute_result",
          "data": {
            "text/plain": [
              "0.25252525252525254"
            ]
          },
          "metadata": {
            "tags": []
          },
          "execution_count": 79
        }
      ]
    },
    {
      "cell_type": "code",
      "metadata": {
        "id": "7W6h_R5__xPF",
        "colab_type": "code",
        "colab": {
          "base_uri": "https://localhost:8080/",
          "height": 34
        },
        "outputId": "0cf811f4-5710-4f0b-bfe2-4f24eda1981a"
      },
      "source": [
        "min(cost)"
      ],
      "execution_count": 80,
      "outputs": [
        {
          "output_type": "execute_result",
          "data": {
            "text/plain": [
              "88.89882161722878"
            ]
          },
          "metadata": {
            "tags": []
          },
          "execution_count": 80
        }
      ]
    },
    {
      "cell_type": "markdown",
      "metadata": {
        "id": "CPd3pb7U_xPN",
        "colab_type": "text"
      },
      "source": [
        "**Finding the tpr and fpr for the optimal threshold**"
      ]
    },
    {
      "cell_type": "code",
      "metadata": {
        "id": "NCzjOPLK_xPN",
        "colab_type": "code",
        "colab": {}
      },
      "source": [
        "'''\n",
        "pd.set_option('display.max_rows', 500)\n",
        "cutoff_list = pd.DataFrame(np.column_stack([tpr, fpr, thresholds]),columns=['tpr', 'fpr', 'thresholds'])\n",
        "cutoff_list'''"
      ],
      "execution_count": null,
      "outputs": []
    },
    {
      "cell_type": "markdown",
      "metadata": {
        "id": "6ZTTN7AS_xPR",
        "colab_type": "text"
      },
      "source": [
        "**Finding the Optimal Threshold without including cost**"
      ]
    },
    {
      "cell_type": "code",
      "metadata": {
        "id": "--2LUKQJ_xPS",
        "colab_type": "code",
        "colab": {
          "base_uri": "https://localhost:8080/",
          "height": 187
        },
        "outputId": "204bf3c1-e0ac-49ee-85b1-10d8c79aa3f8"
      },
      "source": [
        "# print the first 10 predicted probabilities of class membership\n",
        "best_lr1.predict_proba(X_test)[0:10]"
      ],
      "execution_count": 82,
      "outputs": [
        {
          "output_type": "execute_result",
          "data": {
            "text/plain": [
              "array([[0.56316952, 0.43683048],\n",
              "       [0.70620091, 0.29379909],\n",
              "       [0.87866779, 0.12133221],\n",
              "       [0.01186564, 0.98813436],\n",
              "       [0.00749822, 0.99250178],\n",
              "       [0.40757735, 0.59242265],\n",
              "       [0.08687001, 0.91312999],\n",
              "       [0.03990291, 0.96009709],\n",
              "       [0.73676879, 0.26323121],\n",
              "       [0.13306485, 0.86693515]])"
            ]
          },
          "metadata": {
            "tags": []
          },
          "execution_count": 82
        }
      ]
    },
    {
      "cell_type": "markdown",
      "metadata": {
        "id": "NOMxq0mr_xPV",
        "colab_type": "text"
      },
      "source": [
        "**Row: observation**\n",
        "\n",
        "Each row, numbers sum to 1\n",
        "\n",
        "**Column: class**\n",
        "\n",
        "2 response classes there 2 columns\n",
        "\n",
        "column 0: predicted probability that each observation is a member of class 0\n",
        "\n",
        "column 1: predicted probability that each observation is a member of class 1\n",
        "\n",
        "**Importance of predicted probabilities**\n",
        "\n",
        "We can rank observations by probability of a customer churning\n",
        "\n",
        "Prioritize contacting those with a higher probability\n",
        "\n",
        "**There is a 0.5 classification threshold**\n",
        "\n",
        "Class 1 is predicted if probability > 0.5\n",
        "\n",
        "Class 0 is predicted if probability < 0.5"
      ]
    },
    {
      "cell_type": "code",
      "metadata": {
        "id": "qbP0jg_V_xPW",
        "colab_type": "code",
        "colab": {}
      },
      "source": [
        "# store the predicted probabilities for class 1 (ie customer will churn)\n",
        "y_pred_prob = best_lr1.predict_proba(X_test)[:, 1]"
      ],
      "execution_count": 92,
      "outputs": []
    },
    {
      "cell_type": "code",
      "metadata": {
        "id": "zFyzBnRW_xPb",
        "colab_type": "code",
        "colab": {
          "base_uri": "https://localhost:8080/",
          "height": 301
        },
        "outputId": "f8a419ba-13d6-4daf-c478-6cbbe6891132"
      },
      "source": [
        "#Plot predicted probablities for class1\n",
        "import matplotlib.pyplot as plt\n",
        "\n",
        "plt.rcParams['font.size'] = 12\n",
        "plt.hist(y_pred_prob)\n",
        "\n",
        "# x-axis limit from 0 to 1\n",
        "plt.xlim(0,1)\n",
        "plt.title('Histogram of predicted probabilities')\n",
        "plt.xlabel('Predicted probability of a Customer Churning')\n",
        "plt.ylabel('Frequency')\n",
        "despine()"
      ],
      "execution_count": 84,
      "outputs": [
        {
          "output_type": "display_data",
          "data": {
            "image/png": "[encoded data removed]",
            "text/plain": [
              "<Figure size 432x288 with 1 Axes>"
            ]
          },
          "metadata": {
            "tags": []
          }
        }
      ]
    },
    {
      "cell_type": "markdown",
      "metadata": {
        "id": "qNKOF6bJ_xPe",
        "colab_type": "text"
      },
      "source": [
        "**Observation**\n",
        "\n",
        "1.Most of observations have probability from between 0.1 and 0.2\n",
        "\n",
        "2.Small number of observations with probability > 0.5\n",
        "\n",
        "3.Most would be predicted \"no churners\" in this case\n",
        "\n",
        "**Solution**\n",
        "\n",
        "1.Decrease the threshold for predicting churners\n",
        "\n",
        "2.Increase the sensitivity of the classifier\n",
        "\n",
        "3.This would increase the number of TP\n",
        "\n",
        "4.More sensitive to customers who churn"
      ]
    },
    {
      "cell_type": "code",
      "metadata": {
        "id": "Q8GdBTbr_xPe",
        "colab_type": "code",
        "colab": {}
      },
      "source": [
        "# predict churners if the predicted probability is greater than 0.2\n",
        "from sklearn.preprocessing import binarize\n",
        "# it will return 1 for all values above 0.2 and 0 otherwise\n",
        "y_pred_class = binarize([y_pred_prob], 0.4)[0]"
      ],
      "execution_count": 85,
      "outputs": []
    },
    {
      "cell_type": "code",
      "metadata": {
        "id": "n7GnaltH_xPh",
        "colab_type": "code",
        "colab": {
          "base_uri": "https://localhost:8080/",
          "height": 51
        },
        "outputId": "ce254c90-4d1c-4020-ebea-c2919b742599"
      },
      "source": [
        "y_pred_prob"
      ],
      "execution_count": 86,
      "outputs": [
        {
          "output_type": "execute_result",
          "data": {
            "text/plain": [
              "array([0.43683048, 0.29379909, 0.12133221, ..., 0.91479074, 0.11626115,\n",
              "       0.01061314])"
            ]
          },
          "metadata": {
            "tags": []
          },
          "execution_count": 86
        }
      ]
    },
    {
      "cell_type": "code",
      "metadata": {
        "id": "y2Dh5I0F_xPj",
        "colab_type": "code",
        "colab": {
          "base_uri": "https://localhost:8080/",
          "height": 34
        },
        "outputId": "87970bd3-01ee-4b1b-aa7a-618be2c15472"
      },
      "source": [
        "y_pred_class[0:10]"
      ],
      "execution_count": 87,
      "outputs": [
        {
          "output_type": "execute_result",
          "data": {
            "text/plain": [
              "array([1., 0., 0., 1., 1., 1., 1., 1., 0., 1.])"
            ]
          },
          "metadata": {
            "tags": []
          },
          "execution_count": 87
        }
      ]
    },
    {
      "cell_type": "markdown",
      "metadata": {
        "id": "vo5e-Dvy_xPm",
        "colab_type": "text"
      },
      "source": [
        "**Confusion Matrix with Optimal Threshold**"
      ]
    },
    {
      "cell_type": "code",
      "metadata": {
        "id": "RA7iW9Sc_xPm",
        "colab_type": "code",
        "colab": {
          "base_uri": "https://localhost:8080/",
          "height": 51
        },
        "outputId": "0223bb5b-b986-4bf2-ac5a-e097e8b0db5f"
      },
      "source": [
        "from sklearn.metrics import classification_report, confusion_matrix  \n",
        "cm_optimal_threshold=confusion_matrix(y_test, y_pred_class)\n",
        "print(cm_optimal_threshold)"
      ],
      "execution_count": 88,
      "outputs": [
        {
          "output_type": "stream",
          "text": [
            "[[938 617]\n",
            " [ 72 483]]\n"
          ],
          "name": "stdout"
        }
      ]
    },
    {
      "cell_type": "code",
      "metadata": {
        "id": "yUlgVQy3_xPp",
        "colab_type": "code",
        "colab": {
          "base_uri": "https://localhost:8080/",
          "height": 51
        },
        "outputId": "02f94d34-843a-4f95-cc2c-1e7acf8efc3a"
      },
      "source": [
        "y_pred_log = best_lr1.predict(X_test)\n",
        "confusion_matrix_log = confusion_matrix(y_test, y_pred_log)\n",
        "print(confusion_matrix_log)"
      ],
      "execution_count": 89,
      "outputs": [
        {
          "output_type": "stream",
          "text": [
            "[[1016  539]\n",
            " [  97  458]]\n"
          ],
          "name": "stdout"
        }
      ]
    },
    {
      "cell_type": "markdown",
      "metadata": {
        "id": "vtJ1JKNC_xPr",
        "colab_type": "text"
      },
      "source": [
        "**COST EVALUATION**\n",
        "\n",
        "There are costs associated with the model erroneously assigning false positives and false negatives. It is also important to look at similar costs associated with correct predictions of true positives and true negatives. Because the choice of the threshold affects all four of these statistics,it is important to consider the relative costs to the business for each of these four outcomes for each prediction.\n",
        "\n",
        "What are the costs for my problem of customer churn?I will make some assumptions here.\n",
        "\n",
        "**1.** I will assign the **true negatives** the cost of **USD 0**. My model essentially correctly identified a happy customer in this case, and I don’t need to do anything.\n",
        "\n",
        "**2.** **False negatives** are the most problematic, because they incorrectly predict that a churning customer will stay. I will lose the customer and will have to pay all the costs of acquiring a replacement customer, including foregone revenue, advertising costs, administrative costs, point of sale costs. A quick search on the Internet reveals that such costs typically run in the hundreds of dollars so, for the purposes of this post, I will assume **USD 500**. This is the cost of false negatives.\n",
        "\n",
        "**3.** Finally, for customers that my model identifies as churning, I will assume a retention incentive in the amount of **USD 100**.This is the cost of both true positive and false positive outcomes.In the case of false positives (the customer is happy,but the model mistakenly predicted churn),I will “waste” the USD 100 concession.\n",
        "\n",
        "**It’s clear that false negatives are substantially more costly than false positives**. Instead of optimizing for total error, I should be minimizing a cost function that looks like this:\n",
        "\n",
        "500∗FN(C)+0TN(C) + 100∗FP(C)+100TP(C)\n",
        "\n",
        "C:Count"
      ]
    },
    {
      "cell_type": "code",
      "metadata": {
        "id": "5H3-bqF3_xPr",
        "colab_type": "code",
        "colab": {
          "base_uri": "https://localhost:8080/",
          "height": 85
        },
        "outputId": "61e01d59-78ba-4807-ed3f-878d85f92399"
      },
      "source": [
        "no_churn = pd.DataFrame((y_test == 0)).sum()\n",
        "yes_churn = pd.DataFrame((y_test == 1)).sum()\n",
        "print(\"Not Churned:\",no_churn)\n",
        "print(\"Yes Churned:\",yes_churn)"
      ],
      "execution_count": 101,
      "outputs": [
        {
          "output_type": "stream",
          "text": [
            "Not Churned: 0    1555\n",
            "dtype: int64\n",
            "Yes Churned: 0    555\n",
            "dtype: int64\n"
          ],
          "name": "stdout"
        }
      ]
    },
    {
      "cell_type": "markdown",
      "metadata": {
        "id": "XYR-7jgc_xPt",
        "colab_type": "text"
      },
      "source": [
        "**Worst Case Scenario** \n",
        "\n",
        "I don't apply any model to predict churn and assume that no customer will churn.But in reality, 555 customers ended up churning.So to maintain my customer base, I would have to spend ($500*555) USD 277,500 ."
      ]
    },
    {
      "cell_type": "markdown",
      "metadata": {
        "id": "xRMCB-xC_xPu",
        "colab_type": "text"
      },
      "source": [
        "**Best Case Scenario**\n",
        "\n",
        "I have a model that correctly predicts who all will churn and to maintain the customer base, give them concessions ($100).So I would have to spend (555*100) USD 55500"
      ]
    },
    {
      "cell_type": "markdown",
      "metadata": {
        "id": "REHtL_rv_xPu",
        "colab_type": "text"
      },
      "source": [
        "**Model Predictions**\n",
        "The models identifies, FN, and TP.So to maintain the current customer base, I would have to spend (116* 500)+(837* 100)=141700.So using a model will save  USD 135,800 in a month.\n"
      ]
    },
    {
      "cell_type": "markdown",
      "metadata": {
        "id": "zfsFQrfX_xPv",
        "colab_type": "text"
      },
      "source": [
        "**Focussing retention efforts on all customers**\n",
        "I don't apply any model and decide to focus rention efforts on all customers.So I give USD 100 worth of discounts to everyone.I would have to spend (100 * 2110)=211,000.So compared to focusing retention efforts on everyone, implementing the current model would save USD 69300."
      ]
    },
    {
      "cell_type": "markdown",
      "metadata": {
        "id": "_n695r0Z_xPv",
        "colab_type": "text"
      },
      "source": [
        "**Graphs Depicting Different Scenarios**"
      ]
    },
    {
      "cell_type": "code",
      "metadata": {
        "id": "4FaikIhc_xPv",
        "colab_type": "code",
        "colab": {}
      },
      "source": [
        "list_scenarios=['No Model','Discounts to All','Logistic Model','Ideal Model']\n",
        "list_cost=[277500,211000,141700,55500]\n",
        "df_list = pd.DataFrame(\n",
        "    {'Scenario': list_scenarios,\n",
        "     'Cost': list_cost\n",
        "    })"
      ],
      "execution_count": 94,
      "outputs": []
    },
    {
      "cell_type": "code",
      "metadata": {
        "id": "YETs0cF7_xPx",
        "colab_type": "code",
        "colab": {
          "base_uri": "https://localhost:8080/",
          "height": 173
        },
        "outputId": "10ff41a7-7bcf-4566-e7ac-174f17a2596b"
      },
      "source": [
        "df_list"
      ],
      "execution_count": 95,
      "outputs": [
        {
          "output_type": "execute_result",
          "data": {
            "text/html": [
              "<div>\n",
              "<style scoped>\n",
              "    .dataframe tbody tr th:only-of-type {\n",
              "        vertical-align: middle;\n",
              "    }\n",
              "\n",
              "    .dataframe tbody tr th {\n",
              "        vertical-align: top;\n",
              "    }\n",
              "\n",
              "    .dataframe thead th {\n",
              "        text-align: right;\n",
              "    }\n",
              "</style>\n",
              "<table border=\"1\" class=\"dataframe\">\n",
              "  <thead>\n",
              "    <tr style=\"text-align: right;\">\n",
              "      <th></th>\n",
              "      <th>Scenario</th>\n",
              "      <th>Cost</th>\n",
              "    </tr>\n",
              "  </thead>\n",
              "  <tbody>\n",
              "    <tr>\n",
              "      <th>0</th>\n",
              "      <td>No Model</td>\n",
              "      <td>277500</td>\n",
              "    </tr>\n",
              "    <tr>\n",
              "      <th>1</th>\n",
              "      <td>Discounts to All</td>\n",
              "      <td>211000</td>\n",
              "    </tr>\n",
              "    <tr>\n",
              "      <th>2</th>\n",
              "      <td>Logistic Model</td>\n",
              "      <td>141700</td>\n",
              "    </tr>\n",
              "    <tr>\n",
              "      <th>3</th>\n",
              "      <td>Ideal Model</td>\n",
              "      <td>55500</td>\n",
              "    </tr>\n",
              "  </tbody>\n",
              "</table>\n",
              "</div>"
            ],
            "text/plain": [
              "           Scenario    Cost\n",
              "0          No Model  277500\n",
              "1  Discounts to All  211000\n",
              "2    Logistic Model  141700\n",
              "3       Ideal Model   55500"
            ]
          },
          "metadata": {
            "tags": []
          },
          "execution_count": 95
        }
      ]
    },
    {
      "cell_type": "code",
      "metadata": {
        "id": "37wAjWlF_xPz",
        "colab_type": "code",
        "colab": {
          "base_uri": "https://localhost:8080/",
          "height": 430
        },
        "outputId": "146db683-69a6-4381-9470-6a63cc4e62d4"
      },
      "source": [
        "from seaborn import despine\n",
        "\n",
        "sns.set(style=\"whitegrid\")\n",
        "f, ax = plt.subplots(figsize=(6, 6))\n",
        "fig=sns.barplot(x=\"Scenario\", y=\"Cost\", data=df_list,\n",
        "            label=\"Comparision of Business cASES\", color=\"b\")\n",
        "for index, row in df_list.iterrows():\n",
        "    fig.text(row.name,row.Cost, round(row.Cost,2), color='black', ha=\"center\")\n",
        "plt.xlabel(\"Scenarios\",fontsize=15,labelpad=20)\n",
        "plt.ylabel(\"Cost\",rotation=0,labelpad=20,fontsize=15)\n",
        "plt.title(\"Comparisions of Different Business Scenarios\",fontsize=15)\n",
        "despine()"
      ],
      "execution_count": 96,
      "outputs": [
        {
          "output_type": "display_data",
          "data": {
            "image/png": "[encoded data removed]",
            "text/plain": [
              "<Figure size 432x432 with 1 Axes>"
            ]
          },
          "metadata": {
            "tags": []
          }
        }
      ]
    },
    {
      "cell_type": "code",
      "metadata": {
        "id": "VG9gweUF_xP4",
        "colab_type": "code",
        "colab": {}
      },
      "source": [
        ""
      ],
      "execution_count": 96,
      "outputs": []
    }
  ]
}